{
  "nbformat": 4,
  "nbformat_minor": 0,
  "metadata": {
    "kernelspec": {
      "display_name": "Python 3",
      "language": "python",
      "name": "python3"
    },
    "language_info": {
      "codemirror_mode": {
        "name": "ipython",
        "version": 3
      },
      "file_extension": ".py",
      "mimetype": "text/x-python",
      "name": "python",
      "nbconvert_exporter": "python",
      "pygments_lexer": "ipython3",
      "version": "3.7.1"
    },
    "colab": {
      "name": "(2) syntax.ipynb",
      "provenance": [],
      "collapsed_sections": [
        "fe5J7cm7v4en"
      ],
      "include_colab_link": true
    }
  },
  "cells": [
    {
      "cell_type": "markdown",
      "metadata": {
        "id": "view-in-github",
        "colab_type": "text"
      },
      "source": [
        "<a href=\"https://colab.research.google.com/github/seungyi06/class2021Fall/blob/main/(2)_syntax.ipynb\" target=\"_parent\"><img src=\"https://colab.research.google.com/assets/colab-badge.svg\" alt=\"Open In Colab\"/></a>"
      ]
    },
    {
      "cell_type": "markdown",
      "metadata": {
        "id": "fe5J7cm7v4en"
      },
      "source": [
        "\n",
        "#for 구문: 반복\n",
        "\n",
        "        function: 개발자가 만들어놓은 함수(입출력을 가질 수 있음)\n",
        "        range function:\n",
        "            range(4) => index 0, 1, 2, 3\n",
        "            range(1, 4) => index 1, 2, 3\n",
        "            range(3, 5) => index 3, 4\n",
        "        len function_리스트에 있는 개수를 출력해주는 함수\n",
        "        print function_화면출력만 해주는 함수\n",
        "\n",
        "\n",
        " cell에서 제일 마지막에 있는 것이 출력되는 것이 원칙\n",
        "\n",
        "        print(a)가 프린트되어 [1,2,3,4]가 나옴\n",
        "        a = [1,2,3,4]\n",
        "        print(a)\n",
        "\n",
        "        len(a)가 프린트되어 4가 나옴\n",
        "        a = [1,2,3,4]\n",
        "        len(a)\n",
        "\n",
        "        print(a)가 프린트되어 [1,2,3,4]가 나옴\n",
        "        a = [1,2,3,4]\n",
        "        len(a)\n",
        "        print(a)\n",
        "    "
      ]
    },
    {
      "cell_type": "code",
      "metadata": {
        "id": "Fu2mzgrqSLAU",
        "colab": {
          "base_uri": "https://localhost:8080/"
        },
        "outputId": "65d61450-9e75-46e4-d6eb-1b78250c98d2"
      },
      "source": [
        "# for구문의 기본\n",
        "\n",
        "a = [1, 2, 3, 4]\n",
        "for i in a:\n",
        "    print(i)"
      ],
      "execution_count": null,
      "outputs": [
        {
          "output_type": "stream",
          "name": "stdout",
          "text": [
            "1\n",
            "2\n",
            "3\n",
            "4\n"
          ]
        }
      ]
    },
    {
      "cell_type": "code",
      "metadata": {
        "id": "XSJxLJVCSLAW",
        "outputId": "921b10b7-3bc8-4345-a6b2-16253a900c95"
      },
      "source": [
        "# for구문에 range함수 사용. 이때 range는 index로 출력됨\n",
        "\n",
        "a = [1, 2, 3, 4]\n",
        "for i in range(len(a)):\n",
        "    print(a[i])"
      ],
      "execution_count": null,
      "outputs": [
        {
          "output_type": "stream",
          "text": [
            "1\n",
            "2\n",
            "3\n",
            "4\n"
          ],
          "name": "stdout"
        }
      ]
    },
    {
      "cell_type": "code",
      "metadata": {
        "id": "VTfxVRdgSLAW",
        "outputId": "7b430ba8-015e-4296-c883-ce2b3f9ed43b"
      },
      "source": [
        "a = ['red', 'green', 'blue', 'purple']\n",
        "for i in a:\n",
        "    print(i)"
      ],
      "execution_count": null,
      "outputs": [
        {
          "output_type": "stream",
          "text": [
            "red\n",
            "green\n",
            "blue\n",
            "purple\n"
          ],
          "name": "stdout"
        }
      ]
    },
    {
      "cell_type": "code",
      "metadata": {
        "id": "Vc-7pW85SLAW",
        "outputId": "9394e177-c8c8-44db-ff28-1e9566072bb3"
      },
      "source": [
        "a = ['red', 'green', 'blue', 'purple']\n",
        "for i in range(len(a)):\n",
        "    print(a[i])"
      ],
      "execution_count": null,
      "outputs": [
        {
          "output_type": "stream",
          "text": [
            "red\n",
            "green\n",
            "blue\n",
            "purple\n"
          ],
          "name": "stdout"
        }
      ]
    },
    {
      "cell_type": "markdown",
      "source": [
        "# if구문: 조건"
      ],
      "metadata": {
        "id": "io9jIeZM8DGC"
      }
    },
    {
      "cell_type": "code",
      "metadata": {
        "id": "dD-ephD3SLAX",
        "outputId": "69d729f8-996a-41be-d84b-f1bd2a7c809c"
      },
      "source": [
        "a = 0\n",
        "if a == 0:\n",
        "    print(a)\n",
        "else:\n",
        "    print(a+1)"
      ],
      "execution_count": null,
      "outputs": [
        {
          "output_type": "stream",
          "text": [
            "0\n"
          ],
          "name": "stdout"
        }
      ]
    },
    {
      "cell_type": "code",
      "metadata": {
        "id": "M0AZaDMvSLAY",
        "outputId": "b25a5fe6-defa-4549-85b0-0c146ff7a2a0"
      },
      "source": [
        "for i in range(1, 3):\n",
        "    for j in range(3, 5):\n",
        "        print(i*j)"
      ],
      "execution_count": null,
      "outputs": [
        {
          "output_type": "stream",
          "text": [
            "3\n",
            "4\n",
            "6\n",
            "8\n"
          ],
          "name": "stdout"
        }
      ]
    },
    {
      "cell_type": "markdown",
      "source": [
        "**<시험문제>**\n",
        "\n",
        "Q1. inner loop에서 몇 번을 도느냐?\n",
        "\n",
        "A1. 3, 4, 5, 6 / 총 4번 loop됨\n",
        "\n",
        "Q2. outter loop에서 몇 번을 도느냐?\n",
        "\n",
        "A2. 1, 2, 3, 4 / 총 4번 loop됨\n",
        "\n",
        "Q3. 총 print out이 몇 번 찍히는가?\n",
        "\n",
        "A. 총 16번"
      ],
      "metadata": {
        "id": "C6D7487sR4-n"
      }
    },
    {
      "cell_type": "code",
      "source": [
        "for i in range(1, 5): #outer loop\n",
        "    for j in range(3, 7): #inner loop\n",
        "        print(i*j)"
      ],
      "metadata": {
        "colab": {
          "base_uri": "https://localhost:8080/"
        },
        "id": "95GCNpRgR8eF",
        "outputId": "b7b5822d-979e-49a8-fd61-6b46591ed385"
      },
      "execution_count": 1,
      "outputs": [
        {
          "output_type": "stream",
          "name": "stdout",
          "text": [
            "3\n",
            "4\n",
            "5\n",
            "6\n",
            "6\n",
            "8\n",
            "10\n",
            "12\n",
            "9\n",
            "12\n",
            "15\n",
            "18\n",
            "12\n",
            "16\n",
            "20\n",
            "24\n"
          ]
        }
      ]
    },
    {
      "cell_type": "code",
      "metadata": {
        "id": "ZPpZmVIHSLAY",
        "outputId": "0bbcc529-c1d8-4774-e1ad-9de8b9e065ce"
      },
      "source": [
        "#for구문과 if구문의 혼합\n",
        "for i in range(1, 3):\n",
        "    for j in range(3, 5):\n",
        "        if j >=4:\n",
        "            print(i*j)"
      ],
      "execution_count": null,
      "outputs": [
        {
          "output_type": "stream",
          "text": [
            "4\n",
            "8\n"
          ],
          "name": "stdout"
        }
      ]
    },
    {
      "cell_type": "markdown",
      "source": [
        "**list comprehension**_리스트 내포\n",
        "\n",
        "리스트에 어떤 기능/문법을 내포한다는 뜻으로, 리스트에 변수생성,할당 등을 for문 등을 포함해 쉽게, 짧게, 한줄로 직관적인 프로그램을 만들수 있는 문법인데, 파이썬의 특징.\n",
        "\n",
        "List Comprehension 을 사용하면 소스의 길이를 크게 줄일 수 있음.\n",
        "\n",
        "이건 '리스트'에 사용함. 파이썬만 있는 것임."
      ],
      "metadata": {
        "id": "7HgxIB24TjRE"
      }
    },
    {
      "cell_type": "code",
      "metadata": {
        "id": "JQXk5vi0SLAY",
        "outputId": "cd3306f3-6d6d-446e-dd4a-f7f4e11dd967"
      },
      "source": [
        "a = [1, 2, 3, 4]\n",
        "b = [i for i in a if i >=2]\n",
        "b #제일 마지막 줄에 b가 있어야만 print(b) 안해도 출력됨.\n",
        "\n",
        "#2보다 #1이 코드를 더 적은 양으로 만들 수 있음.\n",
        "\n",
        "#1\n",
        "b = [i for i in a if i >=2]\n",
        "b\n",
        "\n",
        "#2\n",
        "for i in a:\n",
        "    if i >= 2:\n",
        "b =[i]\n"
      ],
      "execution_count": null,
      "outputs": [
        {
          "output_type": "execute_result",
          "data": {
            "text/plain": [
              "[2, 3, 4]"
            ]
          },
          "metadata": {
            "tags": []
          },
          "execution_count": 12
        }
      ]
    },
    {
      "cell_type": "code",
      "metadata": {
        "id": "MDmBGZ3LSLAZ",
        "outputId": "bd06f885-7334-43d9-d92d-848c615f6771"
      },
      "source": [
        "a = ['red', 'green', 'blue', 'purple']\n",
        "b = [i for i in a if len(i) >=4]\n",
        "b"
      ],
      "execution_count": null,
      "outputs": [
        {
          "output_type": "execute_result",
          "data": {
            "text/plain": [
              "['green', 'blue', 'purple']"
            ]
          },
          "metadata": {
            "tags": []
          },
          "execution_count": 13
        }
      ]
    }
  ]
}