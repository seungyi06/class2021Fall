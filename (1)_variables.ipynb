{
  "nbformat": 4,
  "nbformat_minor": 0,
  "metadata": {
    "kernelspec": {
      "display_name": "Python 3",
      "language": "python",
      "name": "python3"
    },
    "language_info": {
      "codemirror_mode": {
        "name": "ipython",
        "version": 3
      },
      "file_extension": ".py",
      "mimetype": "text/x-python",
      "name": "python",
      "nbconvert_exporter": "python",
      "pygments_lexer": "ipython3",
      "version": "3.7.1"
    },
    "colab": {
      "name": "(1) variables.ipynb",
      "provenance": [],
      "include_colab_link": true
    }
  },
  "cells": [
    {
      "cell_type": "markdown",
      "metadata": {
        "id": "view-in-github",
        "colab_type": "text"
      },
      "source": [
        "<a href=\"https://colab.research.google.com/github/seungyi06/class2021Fall/blob/main/(1)_variables.ipynb\" target=\"_parent\"><img src=\"https://colab.research.google.com/assets/colab-badge.svg\" alt=\"Open In Colab\"/></a>"
      ]
    },
    {
      "cell_type": "markdown",
      "metadata": {
        "id": "3LwhXACoslDt"
      },
      "source": [
        "**Variables(변수)**\n",
        "- type 함수: int, float, str, list, dict\n",
        "- 인덱싱: [0]부터"
      ]
    },
    {
      "cell_type": "code",
      "metadata": {
        "id": "goAyoU7vRheI",
        "colab": {
          "base_uri": "https://localhost:8080/"
        },
        "outputId": "72337f75-008a-4494-965a-8cb6173593be"
      },
      "source": [
        "a = 1; print(type(a))"
      ],
      "execution_count": null,
      "outputs": [
        {
          "output_type": "stream",
          "name": "stdout",
          "text": [
            "<class 'int'>\n"
          ]
        }
      ]
    },
    {
      "cell_type": "code",
      "metadata": {
        "id": "txxnoqJuRheJ",
        "colab": {
          "base_uri": "https://localhost:8080/"
        },
        "outputId": "176699b4-24a3-4389-9c37-7aab885da51d"
      },
      "source": [
        "a = 1.1; print(type(a))"
      ],
      "execution_count": null,
      "outputs": [
        {
          "output_type": "stream",
          "name": "stdout",
          "text": [
            "<class 'float'>\n"
          ]
        }
      ]
    },
    {
      "cell_type": "code",
      "metadata": {
        "id": "SyP0PB86RheL",
        "colab": {
          "base_uri": "https://localhost:8080/"
        },
        "outputId": "38f4fb13-e13e-4d4b-eb38-fe00f394036f"
      },
      "source": [
        "a = '123'; print(type(a)); print(a[1])"
      ],
      "execution_count": null,
      "outputs": [
        {
          "output_type": "stream",
          "name": "stdout",
          "text": [
            "<class 'str'>\n",
            "2\n"
          ]
        }
      ]
    },
    {
      "cell_type": "code",
      "metadata": {
        "id": "EKYj0dvIHPo0",
        "colab": {
          "base_uri": "https://localhost:8080/"
        },
        "outputId": "ebc03b5f-a13e-4f0f-a923-82f22506632f"
      },
      "source": [
        "a = 'hello'; print(type(a)); print(a[1])"
      ],
      "execution_count": null,
      "outputs": [
        {
          "output_type": "stream",
          "name": "stdout",
          "text": [
            "<class 'str'>\n",
            "e\n"
          ]
        }
      ]
    },
    {
      "cell_type": "code",
      "metadata": {
        "id": "Df6PhU-tHXr2",
        "colab": {
          "base_uri": "https://localhost:8080/"
        },
        "outputId": "aaf03447-970f-4a50-a69e-06ca1efd53c1"
      },
      "source": [
        "a = [1, 2, 3, 4]; print(type(a)); print(a[0])"
      ],
      "execution_count": null,
      "outputs": [
        {
          "output_type": "stream",
          "name": "stdout",
          "text": [
            "<class 'list'>\n",
            "1\n"
          ]
        }
      ]
    },
    {
      "cell_type": "markdown",
      "metadata": {
        "id": "V6uAdvpztbyd"
      },
      "source": [
        "**<시험 문제>**"
      ]
    },
    {
      "cell_type": "code",
      "metadata": {
        "id": "DfS-gknCRheL",
        "colab": {
          "base_uri": "https://localhost:8080/"
        },
        "outputId": "8a88ee8a-c9db-4f02-ee76-5bdd138896e4"
      },
      "source": [
        "a = [1,'a', [3, '4']]; print(type(a)); print(a[0]); print(a[1]); print(a[2]); print(a[2][1])"
      ],
      "execution_count": null,
      "outputs": [
        {
          "output_type": "stream",
          "name": "stdout",
          "text": [
            "<class 'list'>\n",
            "1\n",
            "a\n",
            "[3, '4']\n",
            "4\n"
          ]
        }
      ]
    },
    {
      "cell_type": "markdown",
      "metadata": {
        "id": "Lun6O5w_uR__"
      },
      "source": [
        "**dict: 사전형 변수**\n",
        "- 리스트를 활용하지 않음. ex) a[0]\n",
        "- a[\"a\"]로 사용해야 함."
      ]
    },
    {
      "cell_type": "code",
      "metadata": {
        "id": "2sivfloGRheM",
        "colab": {
          "base_uri": "https://localhost:8080/"
        },
        "outputId": "dbf1035f-5c3e-439d-a922-9ff9f781affd"
      },
      "source": [
        "a =\t{\"a\": \"apple\", \"b\": \"orange\", \"c\": 2014}\n",
        "print(type(a))\n",
        "print(a[\"a\"])"
      ],
      "execution_count": null,
      "outputs": [
        {
          "output_type": "stream",
          "name": "stdout",
          "text": [
            "<class 'dict'>\n",
            "apple\n"
          ]
        }
      ]
    },
    {
      "cell_type": "code",
      "metadata": {
        "colab": {
          "base_uri": "https://localhost:8080/",
          "height": 39
        },
        "id": "_ukvVDOJujSg",
        "outputId": "2401583f-48a4-4c68-a16f-540347f9b796"
      },
      "source": [
        "# dict와 같지만 list로 전달한다는 점이 다름\n",
        "a = ['apple', 'orange', 2014]; a[0]"
      ],
      "execution_count": null,
      "outputs": [
        {
          "output_type": "execute_result",
          "data": {
            "application/vnd.google.colaboratory.intrinsic+json": {
              "type": "string"
            },
            "text/plain": [
              "'apple'"
            ]
          },
          "metadata": {},
          "execution_count": 14
        }
      ]
    }
  ]
}