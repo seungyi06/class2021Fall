{
  "nbformat": 4,
  "nbformat_minor": 0,
  "metadata": {
    "colab": {
      "name": "(4-1) import.ipynb",
      "provenance": [],
      "collapsed_sections": [],
      "include_colab_link": true
    },
    "kernelspec": {
      "name": "python3",
      "display_name": "Python 3"
    },
    "language_info": {
      "name": "python"
    }
  },
  "cells": [
    {
      "cell_type": "markdown",
      "metadata": {
        "id": "view-in-github",
        "colab_type": "text"
      },
      "source": [
        "<a href=\"https://colab.research.google.com/github/seungyi06/class2021Fall/blob/main/(4_1)_import.ipynb\" target=\"_parent\"><img src=\"https://colab.research.google.com/assets/colab-badge.svg\" alt=\"Open In Colab\"/></a>"
      ]
    },
    {
      "cell_type": "markdown",
      "source": [
        "#Import\n",
        ": 다른 개발자들이 만들어 놓은 라이브러리 패키지에서 function을 불러와서 사용하는 것.\n",
        "\n",
        "다른 개발자들이 파이썬에 만들어 놓은 패키지 중에서 numpy는 유명한 패키지임.\n",
        "\n",
        "numpy 패키지: 수를 사용하는 패키지\n",
        "\n",
        "randn함수: 랜덤 넘버를 n개를 불러옴. 평균값 = 0, standard debation = 1"
      ],
      "metadata": {
        "id": "zzSYJkaqcKAg"
      }
    },
    {
      "cell_type": "code",
      "metadata": {
        "id": "JXicrkYOzPRo"
      },
      "source": [
        "import numpy as np #'as'는 numpy를 짧게 사용할 수 있도록 하는 것.\n",
        "n = np.random.randn(1000) #numpy라는 패키지 안의 random이라는 폴더에 있는 함수randn을 사용하겠다."
      ],
      "execution_count": 5,
      "outputs": []
    },
    {
      "cell_type": "markdown",
      "source": [
        "#matplotlib_유명한 파이썬 패키지\n",
        "\n",
        "그림 그리는 패키지. 막대기 표들을 bin이라고 함.\n",
        "\n",
        "함수hist: bins의 갯수를 설정해줄 수 있으며 n의 숫자가 커질수록 더 정교한 그래프가 만들어짐.\n",
        "\n",
        "hist(**n**, bins = 100)"
      ],
      "metadata": {
        "id": "ZOBAmnbbdt6v"
      }
    },
    {
      "cell_type": "code",
      "source": [
        "#불러오는 방법은 많음"
      ],
      "metadata": {
        "id": "pvNZ_d4deCuY"
      },
      "execution_count": null,
      "outputs": []
    },
    {
      "cell_type": "code",
      "metadata": {
        "id": "oKT4vn4MwyLA",
        "colab": {
          "base_uri": "https://localhost:8080/",
          "height": 359
        },
        "outputId": "53c4a083-697e-4855-e39d-903435531d3c"
      },
      "source": [
        "#1 패키지 통채로 가져오는 것.\n",
        "import matplotlib\n",
        "matplotlib.pyplot.hist(n) #여기서 n은 위에서 정의한 1000"
      ],
      "execution_count": 6,
      "outputs": [
        {
          "output_type": "execute_result",
          "data": {
            "text/plain": [
              "(array([  1.,   6.,  46., 125., 225., 249., 191., 103.,  39.,  15.]),\n",
              " array([-3.6903776 , -3.02298392, -2.35559023, -1.68819655, -1.02080287,\n",
              "        -0.35340919,  0.31398449,  0.98137818,  1.64877186,  2.31616554,\n",
              "         2.98355922]),\n",
              " <a list of 10 Patch objects>)"
            ]
          },
          "metadata": {},
          "execution_count": 6
        },
        {
          "output_type": "display_data",
          "data": {
            "image/png": "[encoded data removed]",
            "text/plain": [
              "<Figure size 432x288 with 1 Axes>"
            ]
          },
          "metadata": {
            "needs_background": "light"
          }
        }
      ]
    },
    {
      "cell_type": "code",
      "metadata": {
        "colab": {
          "base_uri": "https://localhost:8080/",
          "height": 359
        },
        "id": "zQJ4LnbA-Hvz",
        "outputId": "86568e0a-a6bd-4a8f-a90e-2ef6a59db806"
      },
      "source": [
        "#2 장점이 없다고 느껴질 수 있으나, #3을 위한 것임.\n",
        "import matplotlib.pyplot\n",
        "matplotlib.pyplot.hist(n)"
      ],
      "execution_count": 7,
      "outputs": [
        {
          "output_type": "execute_result",
          "data": {
            "text/plain": [
              "(array([  1.,   6.,  46., 125., 225., 249., 191., 103.,  39.,  15.]),\n",
              " array([-3.6903776 , -3.02298392, -2.35559023, -1.68819655, -1.02080287,\n",
              "        -0.35340919,  0.31398449,  0.98137818,  1.64877186,  2.31616554,\n",
              "         2.98355922]),\n",
              " <a list of 10 Patch objects>)"
            ]
          },
          "metadata": {},
          "execution_count": 7
        },
        {
          "output_type": "display_data",
          "data": {
            "image/png": "[encoded data removed]",
            "text/plain": [
              "<Figure size 432x288 with 1 Axes>"
            ]
          },
          "metadata": {
            "needs_background": "light"
          }
        }
      ]
    },
    {
      "cell_type": "code",
      "metadata": {
        "id": "AWU6awi53c07",
        "outputId": "b9f1fdeb-db78-49e5-96a0-ee741f366782",
        "colab": {
          "base_uri": "https://localhost:8080/",
          "height": 359
        }
      },
      "source": [
        "#3 깔끔하게 적을 수 있음.\n",
        "import matplotlib.pyplot as plt\n",
        "plt.hist(n)"
      ],
      "execution_count": 8,
      "outputs": [
        {
          "output_type": "execute_result",
          "data": {
            "text/plain": [
              "(array([  1.,   6.,  46., 125., 225., 249., 191., 103.,  39.,  15.]),\n",
              " array([-3.6903776 , -3.02298392, -2.35559023, -1.68819655, -1.02080287,\n",
              "        -0.35340919,  0.31398449,  0.98137818,  1.64877186,  2.31616554,\n",
              "         2.98355922]),\n",
              " <a list of 10 Patch objects>)"
            ]
          },
          "metadata": {},
          "execution_count": 8
        },
        {
          "output_type": "display_data",
          "data": {
            "image/png": "[encoded data removed]",
            "text/plain": [
              "<Figure size 432x288 with 1 Axes>"
            ]
          },
          "metadata": {
            "needs_background": "light"
          }
        }
      ]
    },
    {
      "cell_type": "code",
      "metadata": {
        "colab": {
          "base_uri": "https://localhost:8080/",
          "height": 359
        },
        "id": "moIjn3Kv-Hqy",
        "outputId": "f2125ba3-4eea-4bc3-8cbd-7f04474e9241"
      },
      "source": [
        "#4 matlotlib를 두 번째부터 안 써도 됨.\n",
        "from matplotlib import pyplot\n",
        "pyplot.hist(n)"
      ],
      "execution_count": 9,
      "outputs": [
        {
          "output_type": "execute_result",
          "data": {
            "text/plain": [
              "(array([  1.,   6.,  46., 125., 225., 249., 191., 103.,  39.,  15.]),\n",
              " array([-3.6903776 , -3.02298392, -2.35559023, -1.68819655, -1.02080287,\n",
              "        -0.35340919,  0.31398449,  0.98137818,  1.64877186,  2.31616554,\n",
              "         2.98355922]),\n",
              " <a list of 10 Patch objects>)"
            ]
          },
          "metadata": {},
          "execution_count": 9
        },
        {
          "output_type": "display_data",
          "data": {
            "image/png": "[encoded data removed]",
            "text/plain": [
              "<Figure size 432x288 with 1 Axes>"
            ]
          },
          "metadata": {
            "needs_background": "light"
          }
        }
      ]
    },
    {
      "cell_type": "code",
      "metadata": {
        "colab": {
          "base_uri": "https://localhost:8080/",
          "height": 359
        },
        "id": "ORo259i7_Uqi",
        "outputId": "bf1f838a-29b6-4ebe-faa3-99cd4fffabb0"
      },
      "source": [
        "#5 matplotlib.pyplot를 두 번째부터 안 써도 됨.\n",
        "from matplotlib.pyplot import hist\n",
        "hist(n)"
      ],
      "execution_count": 10,
      "outputs": [
        {
          "output_type": "execute_result",
          "data": {
            "text/plain": [
              "(array([  1.,   6.,  46., 125., 225., 249., 191., 103.,  39.,  15.]),\n",
              " array([-3.6903776 , -3.02298392, -2.35559023, -1.68819655, -1.02080287,\n",
              "        -0.35340919,  0.31398449,  0.98137818,  1.64877186,  2.31616554,\n",
              "         2.98355922]),\n",
              " <a list of 10 Patch objects>)"
            ]
          },
          "metadata": {},
          "execution_count": 10
        },
        {
          "output_type": "display_data",
          "data": {
            "image/png": "[encoded data removed]",
            "text/plain": [
              "<Figure size 432x288 with 1 Axes>"
            ]
          },
          "metadata": {
            "needs_background": "light"
          }
        }
      ]
    }
  ]
}