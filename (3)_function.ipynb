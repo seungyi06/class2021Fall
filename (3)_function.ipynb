{
  "nbformat": 4,
  "nbformat_minor": 0,
  "metadata": {
    "colab": {
      "name": "(3) function.ipynb",
      "provenance": [],
      "collapsed_sections": [],
      "include_colab_link": true
    },
    "kernelspec": {
      "name": "python3",
      "display_name": "Python 3"
    }
  },
  "cells": [
    {
      "cell_type": "markdown",
      "metadata": {
        "id": "view-in-github",
        "colab_type": "text"
      },
      "source": [
        "<a href=\"https://colab.research.google.com/github/seungyi06/class2021Fall/blob/main/(3)_function.ipynb\" target=\"_parent\"><img src=\"https://colab.research.google.com/assets/colab-badge.svg\" alt=\"Open In Colab\"/></a>"
      ]
    },
    {
      "cell_type": "markdown",
      "source": [
        "# Function\n",
        "함수를 왜 사용하는가?\n",
        "입출력이 있는 경우, 계속해서 호출해서 사용해야 할 때, function을 만들어놓으면 편하게 계속 간단하게 사용할 수 있음. reuse가능함.\n",
        "\n",
        "**<시험문제>**\n",
        "\n",
        "함수는 입력과 출력을 받을 수 있지만, 반드시 입출력을 명시할 필요는 없다.\n",
        "\n",
        "=> 입력O 출력X 가능. 입력X 출력O 가능. 입력X 출력X 가능. 입력O 출력O 가능."
      ],
      "metadata": {
        "id": "kjX3TjzxX2u1"
      }
    },
    {
      "cell_type": "code",
      "metadata": {
        "id": "hpc_mhgAye2S"
      },
      "source": [
        "#function을 만드는 방법\n",
        "\n",
        "\n",
        "def add(a,b):\n",
        "  return a+b\n",
        "\n",
        "def subtract(a,b):\n",
        "  return a-b\n",
        "\n",
        "def multiply(a,b):\n",
        "  return a*b\n",
        "\n",
        "def divide(a,b):\n",
        "  return a/b"
      ],
      "execution_count": null,
      "outputs": []
    },
    {
      "cell_type": "code",
      "metadata": {
        "colab": {
          "base_uri": "https://localhost:8080/"
        },
        "id": "8Y4oa05Eykn4",
        "outputId": "7e186590-61dc-49a9-e22f-0bcb617fd3b7"
      },
      "source": [
        "c = add(1,2); print(c)\n",
        "c = subtract(1,2); print(c)\n",
        "c = multiply(1,2); print(c)\n",
        "c = divide(1,2); print(c)"
      ],
      "execution_count": null,
      "outputs": [
        {
          "output_type": "stream",
          "text": [
            "3\n",
            "-1\n",
            "2\n",
            "0.5\n"
          ],
          "name": "stdout"
        }
      ]
    },
    {
      "cell_type": "code",
      "source": [
        "#내가 만든 코드\n",
        "\n",
        "def myfirstfuc(a, b, c):\n",
        "    d = a+b\n",
        "    e = d*4\n",
        "    f = e/c\n",
        "    return f"
      ],
      "metadata": {
        "id": "XYXYurN2YyfE"
      },
      "execution_count": null,
      "outputs": []
    },
    {
      "cell_type": "code",
      "source": [
        "myfirstfuc(1, 0, 2)"
      ],
      "metadata": {
        "colab": {
          "base_uri": "https://localhost:8080/"
        },
        "id": "AbEZCFKMZB4c",
        "outputId": "6c4eddbb-21bc-43e3-ce21-5c841003501f"
      },
      "execution_count": null,
      "outputs": [
        {
          "output_type": "execute_result",
          "data": {
            "text/plain": [
              "2.0"
            ]
          },
          "metadata": {},
          "execution_count": 2
        }
      ]
    }
  ]
}