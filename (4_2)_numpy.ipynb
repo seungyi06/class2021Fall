{
  "nbformat": 4,
  "nbformat_minor": 0,
  "metadata": {
    "kernelspec": {
      "display_name": "Python 3",
      "language": "python",
      "name": "python3"
    },
    "language_info": {
      "codemirror_mode": {
        "name": "ipython",
        "version": 3
      },
      "file_extension": ".py",
      "mimetype": "text/x-python",
      "name": "python",
      "nbconvert_exporter": "python",
      "pygments_lexer": "ipython3",
      "version": "3.7.1"
    },
    "colab": {
      "name": "(4-2) numpy.ipynb",
      "provenance": [],
      "collapsed_sections": [],
      "include_colab_link": true
    }
  },
  "cells": [
    {
      "cell_type": "markdown",
      "metadata": {
        "id": "view-in-github",
        "colab_type": "text"
      },
      "source": [
        "<a href=\"https://colab.research.google.com/github/seungyi06/class2021Fall/blob/main/(4_2)_numpy.ipynb\" target=\"_parent\"><img src=\"https://colab.research.google.com/assets/colab-badge.svg\" alt=\"Open In Colab\"/></a>"
      ]
    },
    {
      "cell_type": "markdown",
      "metadata": {
        "id": "JcCdLoe_4bY7"
      },
      "source": [
        "### create nd arrays (≈matrices)\n",
        "nd = n dimmensional: 모든 차원이 가능함. n = 4이면 4 dimmentional\n",
        "\n",
        "matrices: 행렬은 n*m 2차원 / 백터는 n 1차원 / n*m*p"
      ]
    },
    {
      "cell_type": "markdown",
      "source": [
        "**array함수와 shape함수**"
      ],
      "metadata": {
        "id": "_HEZVO1W9MSn"
      }
    },
    {
      "cell_type": "code",
      "source": [
        "#array함수: 대괄호를 세면 됨 / 밖에 있는 대괄호부터\n",
        "[1, 2, 3] => 1d array\n",
        "[[1, 2, 3], [4, 5, 6]] => 2d array"
      ],
      "metadata": {
        "id": "DQ6wuKDY7Rh2"
      },
      "execution_count": null,
      "outputs": []
    },
    {
      "cell_type": "code",
      "metadata": {
        "id": "5ap7xyofShBB"
      },
      "source": [
        "import numpy as np"
      ],
      "execution_count": 1,
      "outputs": []
    },
    {
      "cell_type": "code",
      "metadata": {
        "id": "2rqpSPZCShBC",
        "colab": {
          "base_uri": "https://localhost:8080/",
          "height": 0
        },
        "outputId": "548f3516-0980-4b7a-8c0a-4604a6d1159f"
      },
      "source": [
        "x = np.array([1,2,3]) #numpy 패키지에 들어잇는 array함수\n",
        "print(x)\n",
        "print(type(x))\n",
        "print(x.shape) #shape의 출력결과는 (3,)이고, 3개짜리 백터라는 의미."
      ],
      "execution_count": 2,
      "outputs": [
        {
          "output_type": "stream",
          "name": "stdout",
          "text": [
            "[1 2 3]\n",
            "<class 'numpy.ndarray'>\n",
            "(3,)\n"
          ]
        }
      ]
    },
    {
      "cell_type": "code",
      "metadata": {
        "id": "tjk79SQ27fNv",
        "colab": {
          "base_uri": "https://localhost:8080/"
        },
        "outputId": "3ff3368b-6bb1-4664-933e-8504613780b1"
      },
      "source": [
        "x = np.array([[1,2,3], [4,5,6]])\n",
        "print(x)\n",
        "print(type(x))\n",
        "print(x.shape) #shape의 출력결과는 (2, 3)이고, 큰 대괄호에 2개의 성분과 작은 괄호에 3개의 성분이 들어 있음."
      ],
      "execution_count": null,
      "outputs": [
        {
          "output_type": "stream",
          "name": "stdout",
          "text": [
            "[[1 2 3]\n",
            " [4 5 6]]\n",
            "<class 'numpy.ndarray'>\n",
            "(2, 3)\n"
          ]
        }
      ]
    },
    {
      "cell_type": "code",
      "metadata": {
        "id": "C1ogg6iZ7yir",
        "colab": {
          "base_uri": "https://localhost:8080/"
        },
        "outputId": "baf27f4e-10a7-40bb-82f4-bf470d8de90c"
      },
      "source": [
        "x = np.array([[[1,2,3], [4,5,6]], [[7,8,9], [10,11,12]]])\n",
        "print(x)\n",
        "print(type(x))\n",
        "print(x.shape) #shape의 출력결과는 (2, 2, 3)이고, 큰 괄호에는 2개, 2번째 괄호에는 2개, 마지막 괄호에는 3개."
      ],
      "execution_count": null,
      "outputs": [
        {
          "output_type": "stream",
          "name": "stdout",
          "text": [
            "[[[ 1  2  3]\n",
            "  [ 4  5  6]]\n",
            "\n",
            " [[ 7  8  9]\n",
            "  [10 11 12]]]\n",
            "<class 'numpy.ndarray'>\n",
            "(2, 2, 3)\n"
          ]
        }
      ]
    },
    {
      "cell_type": "markdown",
      "source": [
        "**arange함수와 linspace함수**\n",
        "\n",
        "매우 중요함"
      ],
      "metadata": {
        "id": "AT6Zm0RI9XG0"
      }
    },
    {
      "cell_type": "code",
      "metadata": {
        "id": "EjC88C75ShBC",
        "colab": {
          "base_uri": "https://localhost:8080/"
        },
        "outputId": "2c72f55f-c3f9-4e6a-c26b-f3e209a295e3"
      },
      "source": [
        "x = np.arange(0,10,2) #arange(0, 10, 2): 0부터 2만큼씩 증가시켜서 10전에 멈추기, 출력결과는 [0, 2, 4, 6, 8]\n",
        "print(x)\n",
        "print(type(x))\n",
        "print(x.shape)"
      ],
      "execution_count": null,
      "outputs": [
        {
          "output_type": "stream",
          "name": "stdout",
          "text": [
            "[0 2 4 6 8]\n",
            "<class 'numpy.ndarray'>\n",
            "(5,)\n"
          ]
        }
      ]
    },
    {
      "cell_type": "code",
      "metadata": {
        "id": "-MwkCEjTShBC",
        "colab": {
          "base_uri": "https://localhost:8080/"
        },
        "outputId": "11427674-886c-4f82-ca48-a1465f53223e"
      },
      "source": [
        "x = np.linspace(0,10,6) #linspace(0, 10, 6): 0에서 10을 포함하여 총 6개의 숫자를 같은 간격으로 만들어라.\n",
        "print(x)\n",
        "print(type(x))\n",
        "print(x.shape)"
      ],
      "execution_count": null,
      "outputs": [
        {
          "output_type": "stream",
          "name": "stdout",
          "text": [
            "[ 0.  2.  4.  6.  8. 10.]\n",
            "<class 'numpy.ndarray'>\n",
            "(6,)\n"
          ]
        }
      ]
    },
    {
      "cell_type": "markdown",
      "source": [
        "**Ones함수와 Zeros함수, Reshape함수(?)**"
      ],
      "metadata": {
        "id": "gCD56jPv-1Bd"
      }
    },
    {
      "cell_type": "code",
      "metadata": {
        "id": "efgeNHtD8ZlT",
        "colab": {
          "base_uri": "https://localhost:8080/"
        },
        "outputId": "047fb9dd-8c90-4dbf-9f12-35123bed1052"
      },
      "source": [
        "x = np.ones([2, 2, 3]) #ones([2, 2, 3]): 2x2x3 array를 만들어라. 거기에 1(one)을 넣어라.\n",
        "print(x)\n",
        "print(type(x))\n",
        "print(x.shape)"
      ],
      "execution_count": null,
      "outputs": [
        {
          "output_type": "stream",
          "name": "stdout",
          "text": [
            "[[[1. 1. 1.]\n",
            "  [1. 1. 1.]]\n",
            "\n",
            " [[1. 1. 1.]\n",
            "  [1. 1. 1.]]]\n",
            "<class 'numpy.ndarray'>\n",
            "(2, 2, 3)\n"
          ]
        }
      ]
    },
    {
      "cell_type": "code",
      "metadata": {
        "id": "b_F-ccY08zzl",
        "colab": {
          "base_uri": "https://localhost:8080/"
        },
        "outputId": "d56dd759-bbd1-48d5-d208-4a2084fe1cec"
      },
      "source": [
        "x = np.zeros([2, 2, 3]) #zeros([2, 2, 3]): 2x2x3 array를 만들어라. 거기에 0(zero)를 넣어라.\n",
        "print(x)\n",
        "print(type(x))\n",
        "print(x.shape)\n",
        "x.reshape(3,2,2) #reshape(3,2,2): "
      ],
      "execution_count": null,
      "outputs": [
        {
          "output_type": "stream",
          "name": "stdout",
          "text": [
            "[[[0. 0. 0.]\n",
            "  [0. 0. 0.]]\n",
            "\n",
            " [[0. 0. 0.]\n",
            "  [0. 0. 0.]]]\n",
            "<class 'numpy.ndarray'>\n",
            "(2, 2, 3)\n"
          ]
        },
        {
          "output_type": "execute_result",
          "data": {
            "text/plain": [
              "array([[[0., 0.],\n",
              "        [0., 0.]],\n",
              "\n",
              "       [[0., 0.],\n",
              "        [0., 0.]],\n",
              "\n",
              "       [[0., 0.],\n",
              "        [0., 0.]]])"
            ]
          },
          "metadata": {},
          "execution_count": 27
        }
      ]
    },
    {
      "cell_type": "markdown",
      "metadata": {
        "id": "0hQuDJ5g9gpE"
      },
      "source": [
        "### create random numbers"
      ]
    },
    {
      "cell_type": "code",
      "metadata": {
        "id": "QRatmkx79otL"
      },
      "source": [
        "import matplotlib.pyplot as plt"
      ],
      "execution_count": 3,
      "outputs": []
    },
    {
      "cell_type": "markdown",
      "source": [
        "**normal함수**"
      ],
      "metadata": {
        "id": "wHHy3BHk_vJc"
      }
    },
    {
      "cell_type": "code",
      "metadata": {
        "id": "z1oOAB6dShBD",
        "colab": {
          "base_uri": "https://localhost:8080/",
          "height": 676
        },
        "outputId": "fd4e2ea8-525c-4325-c6a7-20cdf093159e"
      },
      "source": [
        "x = np.random.normal(0, 1, 100) #normal(0, 1, 100): 평균값이 0, standard debation은 1로 하는 100개 랜덤\n",
        "print(x)\n",
        "plt.hist(x, bins=10) #bins를 적절한 사이즈 조절이 필요함."
      ],
      "execution_count": 4,
      "outputs": [
        {
          "output_type": "stream",
          "name": "stdout",
          "text": [
            "[ 0.56629516  0.76527176  0.23069857 -0.45654933  0.33801693 -0.77597394\n",
            "  0.16701049  0.89568057 -0.61259733 -0.18071561 -0.80634274  0.87602977\n",
            "  0.08245201  2.17444241  0.19886896 -1.14539769  0.84732661 -0.23647905\n",
            "  0.01949832 -1.11115172 -0.62303323  0.23009133  1.16235037 -0.60510626\n",
            " -0.45427818 -0.77935869 -0.87706806  0.0791814   1.41726832 -0.78750475\n",
            " -0.80957627 -0.70108445  0.76988434  0.53337436  0.67974005  0.38467779\n",
            " -0.80712072 -0.36766526 -0.47719106 -0.27961712  0.76791762  1.38286681\n",
            "  0.08601472  1.16824634 -1.18587065  0.11375241 -1.37503625 -0.17255967\n",
            " -1.1482097   0.0488071   1.53742307  0.953019   -0.28140294 -0.4279675\n",
            "  0.29784703 -0.53073169  0.5114374  -0.65584169  0.21447915 -0.03860315\n",
            " -0.5390504  -1.55660904  0.27630261 -0.52170366 -0.20650468 -1.28062251\n",
            " -1.50630109  1.67422938  1.37688938 -1.16651307  2.8257257   0.21384211\n",
            "  0.26979167  0.07459139 -0.5695118   0.54024893 -0.19721851 -2.48204794\n",
            "  1.53430278  0.49758248  1.12274354  1.63548994  0.52724566  0.15088251\n",
            "  0.21071696 -1.25360292  0.69480344  1.12112879 -1.62971845 -1.05409526\n",
            " -0.70873241  0.46717034 -1.50161278  0.48285191  0.17466561  0.82063222\n",
            "  0.03454299  1.81355432  0.12936988  0.67603551]\n"
          ]
        },
        {
          "output_type": "execute_result",
          "data": {
            "text/plain": [
              "(array([ 1.,  4.,  9., 22., 19., 23., 12.,  7.,  2.,  1.]),\n",
              " array([-2.48204794, -1.95127058, -1.42049321, -0.88971585, -0.35893849,\n",
              "         0.17183888,  0.70261624,  1.2333936 ,  1.76417097,  2.29494833,\n",
              "         2.8257257 ]),\n",
              " <a list of 10 Patch objects>)"
            ]
          },
          "metadata": {},
          "execution_count": 4
        },
        {
          "output_type": "display_data",
          "data": {
            "image/png": "[encoded data removed]",
            "text/plain": [
              "<Figure size 432x288 with 1 Axes>"
            ]
          },
          "metadata": {
            "needs_background": "light"
          }
        }
      ]
    },
    {
      "cell_type": "markdown",
      "metadata": {
        "id": "G0exvwBbShBE"
      },
      "source": [
        "### generate a sine curve"
      ]
    },
    {
      "cell_type": "markdown",
      "source": [
        "**2*np.pie와 sin함수와 xlabel함수, ylabel함수, title함수**"
      ],
      "metadata": {
        "id": "5w2ym682C_0n"
      }
    },
    {
      "cell_type": "markdown",
      "source": [
        "numpy 패키지 안에 파이(3.141592)가 있음\n",
        "\n",
        "파이는 180도, 2파이는 360도\n",
        "\n",
        "곡선A와 곡선B의 차이는 시작점의 차이이며 phase difference(위상차)라고 함"
      ],
      "metadata": {
        "id": "2rvzIvLCCW8j"
      }
    },
    {
      "cell_type": "markdown",
      "source": [
        "- 각도 0부터 시작하는 곡선A"
      ],
      "metadata": {
        "id": "fhgu53GXG9rX"
      }
    },
    {
      "cell_type": "code",
      "metadata": {
        "id": "HgQmRXzMShBE",
        "colab": {
          "base_uri": "https://localhost:8080/",
          "height": 315
        },
        "outputId": "75045b2f-d4d3-41bd-fea5-7d10cbc5757f"
      },
      "source": [
        "theta = np.linspace(0, 2*np.pi, 100) #theta는 100개의 백터\n",
        "                    #linspace(0, 2*np.pi, 100): 0부터 2 x 파이(3.141592)까지 0과 2파이를 포함하여 100개의 숫자를 만들어라.\n",
        "                    #각도0부터 2파이(360도)인 각도 0으로 돌아온 백터(=각도)값 사이의 100개\n",
        "s = np.sin(theta)   #sin(theta): 위에서 나온 100개의 각도값을 sin함수에 넣기\n",
        "plt.plot(theta, s, '.') #plot: 마지막에 '.'이면 .으로 그래프 작성, 'o'이면 o으로 그래프 작성. 'r.'이면 빨간점으로 작성됨.\n",
        "plt.xlabel('theta_angle(radian)') #x축에 이름붙이기 가능. theta가 x축, sin(theta)인 s가 y축\n",
        "plt.ylabel('s_value')\n",
        "plt.title('my first sin curve')"
      ],
      "execution_count": 9,
      "outputs": [
        {
          "output_type": "execute_result",
          "data": {
            "text/plain": [
              "Text(0.5, 1.0, 'my first sin curve')"
            ]
          },
          "metadata": {},
          "execution_count": 9
        },
        {
          "output_type": "display_data",
          "data": {
            "image/png": "[encoded data removed]",
            "text/plain": [
              "<Figure size 432x288 with 1 Axes>"
            ]
          },
          "metadata": {
            "needs_background": "light"
          }
        }
      ]
    },
    {
      "cell_type": "markdown",
      "source": [
        "- 각도 90부터 시작하는 곡선B\n"
      ],
      "metadata": {
        "id": "BQEMs-TAHEWX"
      }
    },
    {
      "cell_type": "code",
      "metadata": {
        "id": "WTqXoomZBbBk",
        "colab": {
          "base_uri": "https://localhost:8080/",
          "height": 315
        },
        "outputId": "d5064f07-c3b5-4daa-f3dc-aa71311c2ec6"
      },
      "source": [
        "theta2 = np.linspace(0, 2*np.pi, 100) + np.pi/2 #0+np.pi/2부터 2*np.pi+np.pi/2를 포함하여 100개\n",
        "s2 = np.sin(theta2)\n",
        "plt.plot(theta2, s2, 'm.')\n",
        "plt.xlabel('theta_angle(radian)')\n",
        "plt.ylabel('s_value')\n",
        "plt.title('my first sin curve')"
      ],
      "execution_count": 11,
      "outputs": [
        {
          "output_type": "execute_result",
          "data": {
            "text/plain": [
              "Text(0.5, 1.0, 'my first sin curve')"
            ]
          },
          "metadata": {},
          "execution_count": 11
        },
        {
          "output_type": "display_data",
          "data": {
            "image/png": "[encoded data removed]",
            "text/plain": [
              "<Figure size 432x288 with 1 Axes>"
            ]
          },
          "metadata": {
            "needs_background": "light"
          }
        }
      ]
    },
    {
      "cell_type": "code",
      "metadata": {
        "id": "TuH489v9BvQ7",
        "colab": {
          "base_uri": "https://localhost:8080/"
        },
        "outputId": "a1b1e9a7-3871-47da-8447-5d1b7deaeeca"
      },
      "source": [
        "np.corrcoef(s,s2) #corrcoef(s, s2): \n",
        "                #2.41915449e-17: 10의 -17승"
      ],
      "execution_count": null,
      "outputs": [
        {
          "output_type": "execute_result",
          "data": {
            "text/plain": [
              "array([[1.00000000e+00, 2.41915449e-17],\n",
              "       [2.41915449e-17, 1.00000000e+00]])"
            ]
          },
          "metadata": {},
          "execution_count": 54
        }
      ]
    }
  ]
}